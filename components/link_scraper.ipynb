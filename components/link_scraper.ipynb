{
 "cells": [
  {
   "cell_type": "markdown",
   "metadata": {},
   "source": [
    "# Web scraper\n",
    "\n",
    "This script scrapes the all the links on \"https://choicebroking.freshdesk.com/support/solutions\", retrieves articiles and stores it in separate documents that acts as a knowledge base for our QnA app."
   ]
  },
  {
   "cell_type": "markdown",
   "metadata": {},
   "source": [
    "## Installing Libraries"
   ]
  },
  {
   "cell_type": "code",
   "execution_count": 2,
   "metadata": {},
   "outputs": [
    {
     "name": "stdout",
     "output_type": "stream",
     "text": [
      "Defaulting to user installation because normal site-packages is not writeable\n",
      "Requirement already satisfied: beautifulsoup4 in /home/choice/.local/lib/python3.10/site-packages (4.12.3)\n",
      "Requirement already satisfied: soupsieve>1.2 in /home/choice/.local/lib/python3.10/site-packages (from beautifulsoup4) (2.5)\n"
     ]
    }
   ],
   "source": [
    "!pip install beautifulsoup4"
   ]
  },
  {
   "cell_type": "markdown",
   "metadata": {},
   "source": [
    "## Importing Libraries"
   ]
  },
  {
   "cell_type": "code",
   "execution_count": 3,
   "metadata": {},
   "outputs": [],
   "source": [
    "import requests\n",
    "from bs4 import BeautifulSoup"
   ]
  },
  {
   "cell_type": "markdown",
   "metadata": {},
   "source": [
    "## Scraping for sections\n",
    "\n",
    "Each section will be a file/document"
   ]
  },
  {
   "cell_type": "code",
   "execution_count": 4,
   "metadata": {},
   "outputs": [
    {
     "name": "stdout",
     "output_type": "stream",
     "text": [
      "[{'section': 'Updates & Releases', 'url': 'https://choicebroking.freshdesk.com/support/solutions/22000109390'}, {'section': 'General', 'url': 'https://choicebroking.freshdesk.com/support/solutions/22000017154'}, {'section': 'Stocks', 'url': 'https://choicebroking.freshdesk.com/support/solutions/22000108822'}, {'section': 'Mutual Funds', 'url': 'https://choicebroking.freshdesk.com/support/solutions/22000108824'}, {'section': 'Stratezy', 'url': 'https://choicebroking.freshdesk.com/support/solutions/22000108825'}, {'section': 'Jiffy Global', 'url': 'https://choicebroking.freshdesk.com/support/solutions/22000108826'}, {'section': 'Secured Products', 'url': 'https://choicebroking.freshdesk.com/support/solutions/22000108827'}, {'section': 'Insurance', 'url': 'https://choicebroking.freshdesk.com/support/solutions/22000108899'}, {'section': 'Loan', 'url': 'https://choicebroking.freshdesk.com/support/solutions/22000109076'}, {'section': 'Product', 'url': 'https://choicebroking.freshdesk.com/support/solutions/22000109411'}]\n"
     ]
    }
   ],
   "source": [
    "import requests\n",
    "from bs4 import BeautifulSoup\n",
    "\n",
    "# URL of the webpage to scrape\n",
    "url = 'https://choicebroking.freshdesk.com/support/solutions'\n",
    "\n",
    "# Send a request to fetch the HTML content of the webpage\n",
    "response = requests.get(url)\n",
    "\n",
    "# Parse the HTML content using BeautifulSoup\n",
    "soup = BeautifulSoup(response.content, 'html.parser')\n",
    "\n",
    "# Find all div tags with class 'cs-s'\n",
    "divs = soup.find_all('div', class_='cs-s')\n",
    "\n",
    "# Initialize a list to store the anchor tags\n",
    "sections = []\n",
    "\n",
    "# Iterate through each div to find h3 tags and then the anchor tags within them\n",
    "for div in divs:\n",
    "    h3 = div.find('h3', class_='heading')\n",
    "    if h3:\n",
    "        anchor = h3.find('a')\n",
    "        if anchor:\n",
    "            sections.append({\n",
    "                \"section\": anchor.text, \n",
    "                \"url\": f\"https://choicebroking.freshdesk.com{anchor['href']}\"\n",
    "            })\n",
    "\n",
    "# Print the list of anchor tags\n",
    "print(sections)"
   ]
  },
  {
   "cell_type": "markdown",
   "metadata": {},
   "source": [
    "## Scraping for links in a section\n",
    "\n",
    "Each link will be a QnA pair"
   ]
  },
  {
   "cell_type": "code",
   "execution_count": 5,
   "metadata": {},
   "outputs": [
    {
     "data": {
      "text/plain": [
       "'https://choicebroking.freshdesk.com/support/solutions/22000109390'"
      ]
     },
     "execution_count": 5,
     "metadata": {},
     "output_type": "execute_result"
    }
   ],
   "source": [
    "sections[0]['url']"
   ]
  },
  {
   "cell_type": "code",
   "execution_count": 6,
   "metadata": {},
   "outputs": [],
   "source": [
    "for section in sections:\n",
    "    section_url = section['url']\n",
    "\n",
    "    # Send a get request to the url\n",
    "    response = requests.get(section_url)\n",
    "\n",
    "    # Parse the HTML document\n",
    "    soup = BeautifulSoup(response.content, 'html.parser')\n",
    "\n",
    "    # Find all anchor tags with href containing 'support/solutions/articles/'\n",
    "    matching_links = soup.find_all('a', href=lambda href: href and 'support/solutions/articles/' in href)\n",
    "\n",
    "    # Extract and print the href attribute from each matching anchor tag\n",
    "    qna_links = []\n",
    "    for link in matching_links:\n",
    "        qna_links.append(f\"https://choicebroking.freshdesk.com/{link['href']}\")\n",
    "\n",
    "    section['qna_links'] = qna_links"
   ]
  },
  {
   "cell_type": "code",
   "execution_count": 11,
   "metadata": {},
   "outputs": [
    {
     "data": {
      "text/plain": [
       "{'section': 'Updates & Releases',\n",
       " 'url': 'https://choicebroking.freshdesk.com/support/solutions/22000109390',\n",
       " 'qna_links': ['https://choicebroking.freshdesk.com//support/solutions/articles/22000286092-upcoming-features-releases',\n",
       "  'https://choicebroking.freshdesk.com//support/solutions/articles/22000285853-what-s-new-on-finx-website-30th-april-24',\n",
       "  'https://choicebroking.freshdesk.com//support/solutions/articles/22000286669-what-s-new-on-finx-website-20th-june-24']}"
      ]
     },
     "execution_count": 11,
     "metadata": {},
     "output_type": "execute_result"
    }
   ],
   "source": [
    "sections[0]"
   ]
  },
  {
   "cell_type": "markdown",
   "metadata": {},
   "source": [
    "## Iterating through each file, scraping content and storing it in a folder"
   ]
  },
  {
   "cell_type": "code",
   "execution_count": 13,
   "metadata": {},
   "outputs": [
    {
     "name": "stdout",
     "output_type": "stream",
     "text": [
      "https://choicebroking.freshdesk.com/support/solutions/22000109390\n",
      "https://choicebroking.freshdesk.com//support/solutions/articles/22000286092-upcoming-features-releases\n",
      "https://choicebroking.freshdesk.com//support/solutions/articles/22000285853-what-s-new-on-finx-website-30th-april-24\n",
      "https://choicebroking.freshdesk.com//support/solutions/articles/22000286669-what-s-new-on-finx-website-20th-june-24\n",
      "https://choicebroking.freshdesk.com/support/solutions/22000017154\n",
      "https://choicebroking.freshdesk.com/support/solutions/22000108822\n",
      "https://choicebroking.freshdesk.com//support/solutions/articles/22000275707-registration-sign-up\n",
      "https://choicebroking.freshdesk.com//support/solutions/articles/22000275708-activate-your-account\n",
      "https://choicebroking.freshdesk.com//support/solutions/articles/22000275709-sign-in\n",
      "https://choicebroking.freshdesk.com//support/solutions/articles/22000275711-scrip-search\n",
      "https://choicebroking.freshdesk.com//support/solutions/articles/22000275739-advanced-charting\n",
      "https://choicebroking.freshdesk.com//support/solutions/articles/22000276451-sign-in\n",
      "https://choicebroking.freshdesk.com//support/solutions/articles/22000276384-scrip-search-\n",
      "https://choicebroking.freshdesk.com//support/solutions/articles/22000276385-advanced-charting\n",
      "https://choicebroking.freshdesk.com//support/solutions/articles/22000276387-buy-or-sell-action\n",
      "https://choicebroking.freshdesk.com//support/solutions/articles/22000276391-watchlist\n",
      "https://choicebroking.freshdesk.com//support/solutions/articles/22000273487-how-do-i-open-an-account-online-\n",
      "https://choicebroking.freshdesk.com//support/solutions/articles/22000273553-what-is-the-power-of-attorney-poa-and-why-is-it-needed-\n",
      "https://choicebroking.freshdesk.com//support/solutions/articles/22000273555-what-is-in-person-verification-ipv-and-why-is-it-needed-\n",
      "https://choicebroking.freshdesk.com//support/solutions/articles/22000273556-how-do-i-open-a-trading-account-without-opening-a-demat-account-\n",
      "https://choicebroking.freshdesk.com//support/solutions/articles/22000273557-can-i-open-a-commodity-account-without-opening-an-equity-account-\n",
      "https://choicebroking.freshdesk.com//support/solutions/articles/22000273550-what-do-you-mean-by-dp-charges-\n",
      "https://choicebroking.freshdesk.com//support/solutions/articles/22000273561-what-are-call-and-trade-charges-\n",
      "https://choicebroking.freshdesk.com//support/solutions/articles/22000273564-what-are-the-account-opening-charges-\n",
      "https://choicebroking.freshdesk.com//support/solutions/articles/22000273565-are-there-any-hidden-charges-while-trading-at-choice-\n",
      "https://choicebroking.freshdesk.com//support/solutions/articles/22000273566-is-there-any-minimum-balance-that-i-have-to-maintain-to-keep-my-account-active-\n",
      "https://choicebroking.freshdesk.com//support/solutions/articles/22000273573-what-is-a-collateral-facility-\n",
      "https://choicebroking.freshdesk.com//support/solutions/articles/22000273574-what-are-the-benefits-of-collateral-facility-\n",
      "https://choicebroking.freshdesk.com//support/solutions/articles/22000273575-which-are-the-segments-in-which-the-benefit-of-collateral-facility-can-be-used-\n",
      "https://choicebroking.freshdesk.com//support/solutions/articles/22000273576-in-what-all-segments-the-benefit-of-collateral-facility-cannot-be-used-\n",
      "https://choicebroking.freshdesk.com//support/solutions/articles/22000273577-how-much-limit-do-i-get-against-shares-deposited-\n",
      "https://choicebroking.freshdesk.com//support/solutions/articles/22000273621-what-is-the-dp-id-\n",
      "https://choicebroking.freshdesk.com//support/solutions/articles/22000273622-can-i-link-multiple-bank-accounts-to-my-trading-account-\n",
      "https://choicebroking.freshdesk.com//support/solutions/articles/22000273623-can-i-map-multiple-demat-accounts-to-my-trading-account-\n",
      "https://choicebroking.freshdesk.com//support/solutions/articles/22000273624-how-do-i-transfer-shares-from-another-demat-account-to-my-choice-demat-\n",
      "https://choicebroking.freshdesk.com//support/solutions/articles/22000273625-how-do-i-convert-physical-share-certificates-into-demat-form-\n",
      "https://choicebroking.freshdesk.com//support/solutions/articles/22000285841-what-is-bracket-order-how-to-place-bracket-order-\n",
      "https://choicebroking.freshdesk.com//support/solutions/articles/22000286093-what-is-gtt-order-how-to-place-gtt-order-in-finx-app-\n",
      "https://choicebroking.freshdesk.com//support/solutions/articles/22000285843-what-is-gtt-order-how-to-place-gtt-order-in-finx-website-\n",
      "https://choicebroking.freshdesk.com//support/solutions/articles/22000273582-what-does-buyback-mean-\n",
      "https://choicebroking.freshdesk.com//support/solutions/articles/22000273583-what-are-the-auto-square-off-timings-for-open-intraday-positions-\n",
      "https://choicebroking.freshdesk.com//support/solutions/articles/22000273593-why-have-i-still-not-received-my-withdraw-payout-amount-\n",
      "https://choicebroking.freshdesk.com//support/solutions/articles/22000273594-what-are-the-different-mode-of-depositing-and-withdrawing-money-\n",
      "https://choicebroking.freshdesk.com//support/solutions/articles/22000273595-can-i-add-money-through-paytm-phonepe-wallet-or-any-other-digital-wallet-\n",
      "https://choicebroking.freshdesk.com//support/solutions/articles/22000273596-can-i-use-the-same-funds-for-trading-on-equity-as-well-as-commodity-\n",
      "https://choicebroking.freshdesk.com//support/solutions/articles/22000273597-can-i-transfer-funds-deposit-payin-from-bank-accounts-that-are-not-linked-to-my-choice-account-\n",
      "https://choicebroking.freshdesk.com//support/solutions/articles/22000273601-what-are-the-charges-to-apply-for-an-ipo-\n",
      "https://choicebroking.freshdesk.com//support/solutions/articles/22000273602-how-do-i-apply-for-an-ipo-\n",
      "https://choicebroking.freshdesk.com//support/solutions/articles/22000273603-can-i-apply-for-an-ipo-if-i-don-t-use-upi-\n",
      "https://choicebroking.freshdesk.com//support/solutions/articles/22000273604-what-are-the-charges-to-apply-for-ipo-\n",
      "https://choicebroking.freshdesk.com//support/solutions/articles/22000273605-how-much-time-does-it-take-to-receive-the-mandate-request-on-the-upi-app-\n",
      "https://choicebroking.freshdesk.com//support/solutions/articles/22000273614-can-i-open-more-than-one-trading-account-with-choice-\n",
      "https://choicebroking.freshdesk.com//support/solutions/articles/22000273615-how-do-i-sell-shares-without-a-poa-power-of-attorney-\n",
      "https://choicebroking.freshdesk.com//support/solutions/articles/22000273616-what-is-my-login-id-\n",
      "https://choicebroking.freshdesk.com//support/solutions/articles/22000273617-where-will-i-receive-my-login-details-\n",
      "https://choicebroking.freshdesk.com//support/solutions/articles/22000273618-how-to-login-and-reset-my-new-password-\n",
      "https://choicebroking.freshdesk.com//support/solutions/articles/22000273626-why-are-the-bonus-shares-not-visible-in-my-holdings-even-though-the-company-has-issued-it-\n",
      "https://choicebroking.freshdesk.com//support/solutions/articles/22000273627-where-can-i-get-the-contract-notes-for-the-trades-i-have-taken-\n",
      "https://choicebroking.freshdesk.com//support/solutions/articles/22000273628-where-can-i-see-all-the-trades-that-have-taken-for-a-particular-period-\n",
      "https://choicebroking.freshdesk.com//support/solutions/articles/22000273629-where-can-i-track-dividends-of-my-stock-holdings-\n",
      "https://choicebroking.freshdesk.com//support/solutions/articles/22000273630-what-is-a-contract-note-\n",
      "https://choicebroking.freshdesk.com//support/solutions/articles/22000273637-how-do-i-refer-choice-to-my-friends-and-family-\n",
      "https://choicebroking.freshdesk.com//support/solutions/articles/22000273638-is-this-a-broker-s-rule-or-is-there-any-rule-from-sebi-related-to-aging-debit-\n",
      "https://choicebroking.freshdesk.com//support/solutions/articles/22000273639-what-is-ageing-debit-\n",
      "https://choicebroking.freshdesk.com//support/solutions/articles/22000273640-from-where-will-i-get-to-know-how-many-days-are-in-my-account-in-aging-debit-\n",
      "https://choicebroking.freshdesk.com//support/solutions/articles/22000273641-what-if-i-don-t-clear-my-debit-within-7-days-\n",
      "https://choicebroking.freshdesk.com//support/solutions/articles/22000273642-why-were-the-shares-i-pledged-squared-off-\n",
      "https://choicebroking.freshdesk.com//support/solutions/articles/22000273643-which-commodity-exchanges-can-i-trade-in-\n",
      "https://choicebroking.freshdesk.com//support/solutions/articles/22000273644-what-are-the-market-timings-for-commodity-derivative-trading-\n",
      "https://choicebroking.freshdesk.com//support/solutions/articles/22000273645-who-regulates-the-commodity-exchanges-in-india-\n",
      "https://choicebroking.freshdesk.com//support/solutions/articles/22000273646-what-are-currency-derivatives-\n",
      "https://choicebroking.freshdesk.com//support/solutions/articles/22000273647-what-is-hedging-\n",
      "https://choicebroking.freshdesk.com//support/solutions/articles/22000274029-what-is-baskets-\n",
      "https://choicebroking.freshdesk.com//support/solutions/articles/22000274026-how-to-invest-in-basket-\n",
      "https://choicebroking.freshdesk.com//support/solutions/articles/22000274030-what-are-the-charges-fees-for-investing-or-placing-order-in-basket-\n",
      "https://choicebroking.freshdesk.com//support/solutions/articles/22000274031-what-will-happen-if-the-same-stock-is-present-in-basket-and-holding-then-what-will-be-the-avg-price-\n",
      "https://choicebroking.freshdesk.com//support/solutions/articles/22000274032-where-to-track-your-basket-performance-\n",
      "https://choicebroking.freshdesk.com//support/solutions/articles/22000278146-what-is-option-strategy-\n",
      "https://choicebroking.freshdesk.com//support/solutions/articles/22000278147-what-is-break-even-\n",
      "https://choicebroking.freshdesk.com//support/solutions/articles/22000278149-why-should-i-trade-in-option-strategy-\n",
      "https://choicebroking.freshdesk.com//support/solutions/articles/22000278154-what-is-bull-call-spread-bear-put-spread-in-option-strategy-\n",
      "https://choicebroking.freshdesk.com//support/solutions/articles/22000278155-what-is-current-payoff-in-option-strategy-\n",
      "https://choicebroking.freshdesk.com/support/solutions/22000108824\n",
      "https://choicebroking.freshdesk.com//support/solutions/articles/22000273681-when-will-my-account-get-activated-for-transactions-\n",
      "https://choicebroking.freshdesk.com//support/solutions/articles/22000273682-why-my-bank-account-details-are-being-asked-while-opening-an-account-\n",
      "https://choicebroking.freshdesk.com//support/solutions/articles/22000273684-what-is-kyc-and-how-it-affects-my-investment-account-\n",
      "https://choicebroking.freshdesk.com//support/solutions/articles/22000279929-how-to-add-a-nominee-in-mutual-funds-for-cams-karvy\n",
      "https://choicebroking.freshdesk.com//support/solutions/articles/22000273529-why-mf-units-have-been-allocated-to-me-without-a-payment-against-the-order-\n",
      "https://choicebroking.freshdesk.com//support/solutions/articles/22000273674-what-is-an-offline-order-\n",
      "https://choicebroking.freshdesk.com//support/solutions/articles/22000273675-when-will-i-get-mf-units-allocated-for-the-paid-orders-\n",
      "https://choicebroking.freshdesk.com//support/solutions/articles/22000273676-how-can-i-redeem-my-investments\n",
      "https://choicebroking.freshdesk.com//support/solutions/articles/22000273677-my-bank-account-has-been-debited-but-allocation-is-not-done-yet-\n",
      "https://choicebroking.freshdesk.com//support/solutions/articles/22000273702-by-when-will-my-sips-start-getting-deducted-directly-from-the-bank-account-\n",
      "https://choicebroking.freshdesk.com//support/solutions/articles/22000273703-what-is-a-bank-mandate-\n",
      "https://choicebroking.freshdesk.com//support/solutions/articles/22000273704-how-can-i-stop-my-sip-\n",
      "https://choicebroking.freshdesk.com//support/solutions/articles/22000273705-why-my-sip-installment-is-not-getting-deducted-\n",
      "https://choicebroking.freshdesk.com//support/solutions/articles/22000273706-why-my-sip-installment-is-not-getting-deducted-\n",
      "https://choicebroking.freshdesk.com//support/solutions/articles/22000273685-what-is-an-absolute-return-\n",
      "https://choicebroking.freshdesk.com//support/solutions/articles/22000273686-what-is-cagr-\n",
      "https://choicebroking.freshdesk.com//support/solutions/articles/22000273689-why-return-representation-is-different-than-other-websites-platforms-\n",
      "https://choicebroking.freshdesk.com//support/solutions/articles/22000273687-why-all-the-fund-performances-are-compared-with-sensex-bank-fd-\n",
      "https://choicebroking.freshdesk.com//support/solutions/articles/22000273688-what-are-the-sip-and-lump-sum-baskets-\n",
      "https://choicebroking.freshdesk.com//support/solutions/articles/22000273713-what-is-rating-methodology-for-equity-funds-\n",
      "https://choicebroking.freshdesk.com//support/solutions/articles/22000273714-what-is-rating-methodology-for-debt-funds-\n",
      "https://choicebroking.freshdesk.com//support/solutions/articles/22000273715-how-often-the-ratings-are-renewed-on-\n",
      "https://choicebroking.freshdesk.com//support/solutions/articles/22000273716-how-should-i-use-the-ratings-while-selecting-a-fund-\n",
      "https://choicebroking.freshdesk.com//support/solutions/articles/22000273717-what-is-your-commission-structure-\n",
      "https://choicebroking.freshdesk.com//support/solutions/articles/22000273718-can-i-view-my-existing-investments-done-via-some-other-platform-or-distributor-\n",
      "https://choicebroking.freshdesk.com//support/solutions/articles/22000273719-how-to-view-investments-done-by-my-family-members-in-my-account-\n",
      "https://choicebroking.freshdesk.com//support/solutions/articles/22000273721-are-my-investments-safe-with-\n",
      "https://choicebroking.freshdesk.com//support/solutions/articles/22000273723-does-it-review-investor-portfolios-\n",
      "https://choicebroking.freshdesk.com/support/solutions/22000108825\n",
      "https://choicebroking.freshdesk.com//support/solutions/articles/22000273528-what-is-algorithm-trading-strategy-\n",
      "https://choicebroking.freshdesk.com//support/solutions/articles/22000275758-how-to-build-an-algorithm-trading-strategy-\n",
      "https://choicebroking.freshdesk.com//support/solutions/articles/22000273650-how-does-the-indicators-selection-work-\n",
      "https://choicebroking.freshdesk.com//support/solutions/articles/22000273651-how-and-or-or-logic-connectors-work-\n",
      "https://choicebroking.freshdesk.com//support/solutions/articles/22000273653-how-stop-loss-and-take-profit-work-\n",
      "https://choicebroking.freshdesk.com/support/solutions/22000108826\n",
      "https://choicebroking.freshdesk.com//support/solutions/articles/22000273530-how-do-i-buy-foreign-stocks-from-india-\n",
      "https://choicebroking.freshdesk.com//support/solutions/articles/22000273739-what-documents-do-you-need-to-open-an-overseas-trading-account-\n",
      "https://choicebroking.freshdesk.com//support/solutions/articles/22000273740-what-is-the-minimum-balance-required-\n",
      "https://choicebroking.freshdesk.com//support/solutions/articles/22000273741-how-long-does-it-take-to-open-a-new-international-demat-account-\n",
      "https://choicebroking.freshdesk.com//support/solutions/articles/22000273742-under-whose-name-shares-would-be-issued-\n",
      "https://choicebroking.freshdesk.com/support/solutions/22000108827\n",
      "https://choicebroking.freshdesk.com//support/solutions/articles/22000273775-what-is-sovereign-gold-bonds-sgb-who-is-the-issuer-\n",
      "https://choicebroking.freshdesk.com//support/solutions/articles/22000273776-what-is-the-minimum-and-maximum-limit-for-investment-\n",
      "https://choicebroking.freshdesk.com//support/solutions/articles/22000273777-who-is-eligible-to-invest-in-the-sgbs-\n",
      "https://choicebroking.freshdesk.com//support/solutions/articles/22000273778-can-i-buy-4kg-in-the-name-of-each-of-my-family-members-\n",
      "https://choicebroking.freshdesk.com//support/solutions/articles/22000273779-what-will-be-the-tenor-of-the-sovereign-gold-bond-\n",
      "https://choicebroking.freshdesk.com//support/solutions/articles/22000275742-what-are-treasury-bills-t-bills-\n",
      "https://choicebroking.freshdesk.com//support/solutions/articles/22000275743-what-are-government-securities-g-sec-\n",
      "https://choicebroking.freshdesk.com//support/solutions/articles/22000275744-what-are-state-development-loan-sdl-\n",
      "https://choicebroking.freshdesk.com//support/solutions/articles/22000275745-what-is-the-minimum-bidding-amount-\n",
      "https://choicebroking.freshdesk.com//support/solutions/articles/22000275746-what-is-the-settlement-time-or-how-long-will-it-take-to-allot-g-secs-and-t-bill-\n",
      "https://choicebroking.freshdesk.com/support/solutions/22000108899\n",
      "https://choicebroking.freshdesk.com//support/solutions/articles/22000275286-how-to-view-quotes-\n",
      "https://choicebroking.freshdesk.com//support/solutions/articles/22000275424-how-to-buy-a-policy-\n",
      "https://choicebroking.freshdesk.com//support/solutions/articles/22000275425-what-is-a-family-floater-\n",
      "https://choicebroking.freshdesk.com//support/solutions/articles/22000275426-how-many-times-can-i-claim-health-insurance-in-a-financial-year-\n",
      "https://choicebroking.freshdesk.com//support/solutions/articles/22000275427-difference-between-health-insurance-and-a-mediclaim-policy-\n",
      "https://choicebroking.freshdesk.com//support/solutions/articles/22000275287-how-to-view-quotes\n",
      "https://choicebroking.freshdesk.com//support/solutions/articles/22000275441-how-to-buy-a-policy-\n",
      "https://choicebroking.freshdesk.com//support/solutions/articles/22000275442-do-you-need-to-buy-a-term-insurance-plan-or-a-whole-life-ulip-etc-\n",
      "https://choicebroking.freshdesk.com//support/solutions/articles/22000275443-does-term-insurance-premiums-get-affected-if-insured-is-having-a-smoking-habit-\n",
      "https://choicebroking.freshdesk.com//support/solutions/articles/22000275444-does-a-term-insurance-plan-differ-from-an-accidental-insurance-plan-\n",
      "https://choicebroking.freshdesk.com/support/solutions/22000109076\n",
      "https://choicebroking.freshdesk.com/support/solutions/22000109411\n",
      "https://choicebroking.freshdesk.com//support/solutions/articles/22000273581-what-is-buyback-how-to-apply-for-buyback-\n"
     ]
    }
   ],
   "source": [
    "for section in sections:\n",
    "    print(section['url'])\n",
    "    document = \"\"\n",
    "    if len(section['qna_links']) != 0:\n",
    "        for qna_link in section['qna_links']:\n",
    "            print(qna_link)\n",
    "            # Sending a GET Request\n",
    "            response = requests.get(qna_link)\n",
    "\n",
    "            # Parse the HTML content using BeautifulSoup\n",
    "            soup = BeautifulSoup(response.content, 'html.parser')\n",
    "\n",
    "\n",
    "            # Find all h2 tags with the class name 'heading'\n",
    "            h2_headings = soup.find_all('h2', class_='heading')\n",
    "\n",
    "            # Find all article tags with the class name 'article-body'\n",
    "            article_bodies = soup.find_all('article', class_='article-body')\n",
    "\n",
    "            header = h2_headings[0].text.strip()\n",
    "\n",
    "            header = header.replace(\"Print\", \"\").strip()\n",
    "            \n",
    "            answer = article_bodies[0].text.strip()\n",
    "\n",
    "\n",
    "            document += f\"Question: {header}\\nAnswer: {answer}\\n\\n\"\n",
    "        \n",
    "        file_name = section['section']\n",
    "\n",
    "        with open(f'/home/choice/Desktop/whatsapp-chatbot-choice/data/{file_name}.txt', 'w') as file:\n",
    "            file.write(document)\n",
    "    \n",
    "    else:\n",
    "        pass       "
   ]
  },
  {
   "cell_type": "code",
   "execution_count": 9,
   "metadata": {},
   "outputs": [
    {
     "name": "stdout",
     "output_type": "stream",
     "text": [
      "h2 headings with class 'heading':\n",
      "What is Buyback? How to Apply for Buyback?\n",
      "\n",
      "article tags with class 'article-body':\n",
      "A buyback is when a company buys its own shares from the stock market. It's like a company investing in itself by purchasing its own stock from investors who own it. This can happen for various reasons, like boosting the stock price or returning money to shareholders. Buyback is usually done at a price higher than the current market value. Below are the steps of How to apply for buyback from Website.1. Visit Dashboard and check Smart Investment Section and click on Buyback.2. Navigate Open Tab and Click on Apply on your preferred buyback company.3. Enter quantity you wish to sell and, then click on Apply to place your order.4.To view your order status, Navigate My Orders Tab.Points to be noted to apply for buyback:1. User should hold the shares on the record date of the buyback to be eligible to apply.2. User should have submitted POA/DDPI to their depository participants.3. Application once submitted cannot be modified/cancelled.\n"
     ]
    }
   ],
   "source": [
    "# URL of the webpage to scrape\n",
    "chunk_url = 'https://choicebroking.freshdesk.com//support/solutions/articles/22000273581-what-is-buyback-how-to-apply-for-buyback-'\n",
    "\n",
    "# Send a request to fetch the HTML content of the webpage\n",
    "response = requests.get(chunk_url)\n",
    "\n",
    "# Parse the HTML content using BeautifulSoup\n",
    "soup = BeautifulSoup(response.content, 'html.parser')\n",
    "\n",
    "# Find all h2 tags with the class name 'heading'\n",
    "h2_headings = soup.find_all('h2', class_='heading')\n",
    "\n",
    "# Find all article tags with the class name 'article-body'\n",
    "article_bodies = soup.find_all('article', class_='article-body')\n",
    "\n",
    "# Print the found h2 tags\n",
    "print(\"h2 headings with class 'heading':\")\n",
    "for heading in h2_headings:\n",
    "    header = heading.text.strip()\n",
    "    header = header.replace(\"Print\", \"\").strip()\n",
    "    print(header)\n",
    "\n",
    "# Print the found article tags\n",
    "print(\"\\narticle tags with class 'article-body':\")\n",
    "for article in article_bodies:\n",
    "    print(article.text.strip())\n"
   ]
  },
  {
   "cell_type": "code",
   "execution_count": null,
   "metadata": {},
   "outputs": [],
   "source": []
  }
 ],
 "metadata": {
  "kernelspec": {
   "display_name": "Python 3",
   "language": "python",
   "name": "python3"
  },
  "language_info": {
   "codemirror_mode": {
    "name": "ipython",
    "version": 3
   },
   "file_extension": ".py",
   "mimetype": "text/x-python",
   "name": "python",
   "nbconvert_exporter": "python",
   "pygments_lexer": "ipython3",
   "version": "3.10.12"
  }
 },
 "nbformat": 4,
 "nbformat_minor": 2
}
